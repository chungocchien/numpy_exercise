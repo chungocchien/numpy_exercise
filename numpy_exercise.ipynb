{
 "cells": [
  {
   "cell_type": "code",
   "execution_count": null,
   "id": "8a69b44f-4c65-4864-b706-3563e09614dc",
   "metadata": {},
   "outputs": [],
   "source": [
    "#Xây dựng mảng các luỹ thừa của 2 nhỏ hơn 1025\n",
    "import numpy as np\n",
    "\n",
    "a = np.arange(0, 11)\n",
    "b = 2\n",
    "c = b**a\n",
    "c"
   ]
  },
  {
   "cell_type": "code",
   "execution_count": null,
   "id": "0c685802-3854-4fdd-92f9-e3e8364a2785",
   "metadata": {},
   "outputs": [],
   "source": [
    "# Xây dựng mảng gồm 10 phần tử, trong đó 9 phần tử đầu bằng 3, phần tử cuối cùng bằng 1.5.\n",
    "import numpy as np\n",
    "a = np.ones(9)*3\n",
    "a = np.append(a, 1.5)\n",
    "a"
   ]
  },
  {
   "cell_type": "code",
   "execution_count": null,
   "id": "e379c38b-ff83-4126-8814-0058577a68da",
   "metadata": {},
   "outputs": [],
   "source": [
    "#Thay toàn bộ các phần tử của mảng bằng trung bình cộng các phần tử trong mảng đó, sử dụng vòng for. Hàm này không trả về biến nào mà chỉ thay đổi các giá trị của biến đầu vào x.\n",
    "import numpy as np\n",
    "def fix(arr):\n",
    "    m = np.mean(arr)\n",
    "    for i in range(len(arr)):\n",
    "        arr[i] = m\n",
    "\n",
    "a = np.arange(0, 11)\n",
    "fix(a)\n",
    "a"
   ]
  },
  {
   "cell_type": "code",
   "execution_count": null,
   "id": "0ff91bf1-88ee-4b69-8572-bd946fc49b01",
   "metadata": {},
   "outputs": [],
   "source": [
    "#Cho trước một số tự nhiên n. Tạo một mảng có n phần tử mà các phần tử có chỉ số chẵn (bắt đầu từ 0) là một cấp số cộng bắt đầu từ 2, công sai bằng -0.5; các phần tử có chỉ số lẻ bằng -1.\n",
    "import numpy as np\n",
    "def special_arr(n):\n",
    "    arr = np.ones(n)*-1\n",
    "    for i in range(0, n, 2):\n",
    "        arr[i] = 2 + i*-0.5/2\n",
    "    return arr\n",
    "special_arr(4)\n"
   ]
  },
  {
   "cell_type": "code",
   "execution_count": null,
   "id": "e03407c1-46ee-4a69-adcb-ff29425ad532",
   "metadata": {},
   "outputs": [],
   "source": [
    "#Cho một mảng 1 chiều x, tính mảng y và z sao cho y[i] = pi/2 - x[i] và z[i] = cos(x[i]) - sin(x[i]). Sau đó trả về tổng các phần tử của z\n",
    "x = np.arange(0, 10)\n",
    "y = np.pi/2 - x\n",
    "z = np.cos(x) - np.sin(x)\n",
    "y\n",
    "\n"
   ]
  },
  {
   "cell_type": "code",
   "execution_count": null,
   "id": "70e3505b-f5b8-4784-9dc3-b6466a10dc87",
   "metadata": {},
   "outputs": [],
   "source": [
    "x = np.arange(0, 10)\n",
    "y = np.exp(x)\n",
    "sum = np.sum(y)\n",
    "soft_max = y / sum\n",
    "soft_max"
   ]
  },
  {
   "cell_type": "code",
   "execution_count": null,
   "id": "6470331d-662f-4acb-a846-dd5399de6e50",
   "metadata": {},
   "outputs": [],
   "source": [
    "#Với một số tự nhiên n, hãy viết hàm trả về ma trận có dạng đường chéo phụ ngay dưới đường chéo chính nhận các giá trị từ 1 đến n. Các thành phần là kiểu số nguyên.\n",
    "import numpy as np\n",
    "def arr(n):\n",
    "    return np.diag(np.arange(1,n+1), k=-1)\n",
    "arr(6)"
   ]
  },
  {
   "cell_type": "code",
   "execution_count": 10,
   "id": "8beb4e39-58b3-4b24-ae8b-6a73b2fe526d",
   "metadata": {},
   "outputs": [
    {
     "data": {
      "text/plain": [
       "8"
      ]
     },
     "execution_count": 10,
     "metadata": {},
     "output_type": "execute_result"
    }
   ],
   "source": [
    "#Cho một ma trận A, viết hàm myfunc tính tổng các phần tử trên các cột có chỉ số chẵn (0, 2, 4, ...) của ma trận đó. Ví dụ:\n",
    "import numpy as np\n",
    "def myfunc(a):\n",
    "    return np.sum(a[:,::2])\n",
    "A = np.array([[5, 6], [3, 4]])\n",
    "myfunc(A)"
   ]
  },
  {
   "cell_type": "code",
   "execution_count": 12,
   "id": "5e3b45a5-604a-453c-92fb-1f7382142425",
   "metadata": {},
   "outputs": [
    {
     "data": {
      "text/plain": [
       "9"
      ]
     },
     "execution_count": 12,
     "metadata": {},
     "output_type": "execute_result"
    }
   ],
   "source": [
    "# Viết hàm myfunc tính tổng tất cả các phần tử có cả hai chỉ số đều chẵn của một ma trận A bất kỳ.\n",
    "import numpy as np\n",
    "def myfunc(A):\n",
    "   return np.sum(A[::2,::2])\n",
    "A = np.array([[5, 6, 4], [3, 4, 9]])\n",
    "myfunc(A)#5+4"
   ]
  },
  {
   "cell_type": "code",
   "execution_count": 13,
   "id": "e78eced2",
   "metadata": {},
   "outputs": [
    {
     "data": {
      "text/plain": [
       "13.527749258468683"
      ]
     },
     "execution_count": 13,
     "metadata": {},
     "output_type": "execute_result"
    }
   ],
   "source": [
    "#Viết hàm norm_fro(A) tính Frobenius norm của một ma trận bất kỳ.\n",
    "def norm_fro(A):\n",
    "    B = A**2\n",
    "    return (np.sqrt(np.sum(B)))\n",
    "A = np.array([[5, 6, 4], [3, 4, 9]])\n",
    "norm_fro(A)"
   ]
  },
  {
   "cell_type": "code",
   "execution_count": 14,
   "id": "9e7ce56e",
   "metadata": {},
   "outputs": [
    {
     "data": {
      "text/plain": [
       "7.0710678118654755"
      ]
     },
     "execution_count": 14,
     "metadata": {},
     "output_type": "execute_result"
    }
   ],
   "source": [
    "#Viết hàm dist_fro tính bình phương Frobenious norm của hiệu hai ma trận được mô tả bởi hai mảng đó.\n",
    "import numpy as np\n",
    "\n",
    "A = np.array([[1, 3], [2, 5]])\n",
    "def norm_fro(A):\n",
    "    B = A**2\n",
    "    return (np.sqrt(np.sum(B)))\n",
    "def dis_fro(A, B):\n",
    "    C = A - B\n",
    "    return norm_fro(C)\n",
    "A = np.array([[1, 5], [2, 3]])\n",
    "B = np.array([[5, 8], [7, 3]])\n",
    "dis_fro(A, B)"
   ]
  },
  {
   "cell_type": "code",
   "execution_count": 26,
   "id": "9e6266d1",
   "metadata": {},
   "outputs": [
    {
     "data": {
      "text/plain": [
       "array([[ 1,  5,  9,  2],\n",
       "       [ 6, 10,  3,  7],\n",
       "       [11,  4,  8, 12]])"
      ]
     },
     "execution_count": 26,
     "metadata": {},
     "output_type": "execute_result"
    }
   ],
   "source": [
    "import numpy as np\n",
    "a = np.transpose(np.arange(1,13).reshape(3, 4).reshape(4,-1,order='F'))\n",
    "a"
   ]
  },
  {
   "cell_type": "code",
   "execution_count": 27,
   "id": "66477d0e",
   "metadata": {},
   "outputs": [
    {
     "data": {
      "text/plain": [
       "650"
      ]
     },
     "execution_count": 27,
     "metadata": {},
     "output_type": "execute_result"
    }
   ],
   "source": [
    "import numpy as np\n",
    "def fro_trace(A):\n",
    "    B = np.transpose(A)\n",
    "    return np.trace(A@B)\n",
    "A = np.array([[ 1,  5,  9,  2],\n",
    "       [ 6, 10,  3,  7],\n",
    "       [11,  4,  8, 12]])\n",
    "fro_trace(A)"
   ]
  },
  {
   "cell_type": "code",
   "execution_count": 37,
   "id": "75ff16f0",
   "metadata": {},
   "outputs": [
    {
     "data": {
      "text/plain": [
       "array([[2.93661044, 2.83179059, 2.10473591, 2.76963085, 2.28071041,\n",
       "        2.02891472],\n",
       "       [2.72601092, 2.83389294, 2.74671875, 2.74327797, 2.51108752,\n",
       "        2.23841604],\n",
       "       [2.45730638, 2.50632522, 2.49604068, 2.94762238, 2.4566615 ,\n",
       "        2.542806  ],\n",
       "       [2.62015555, 2.04873377, 2.33560207, 2.73712948, 2.78694115,\n",
       "        2.65993168],\n",
       "       [2.90134896, 2.7637057 , 2.92380203, 2.69816024, 2.66687695,\n",
       "        2.19752291]])"
      ]
     },
     "execution_count": 37,
     "metadata": {},
     "output_type": "execute_result"
    }
   ],
   "source": [
    "import numpy as np\n",
    "def create_array(a, b, m, n):\n",
    "    return np.random.uniform(a, b, (m, n))\n",
    "create_array(2, 3, 5, 6)\n"
   ]
  },
  {
   "cell_type": "code",
   "execution_count": 39,
   "id": "17855753",
   "metadata": {},
   "outputs": [
    {
     "data": {
      "text/plain": [
       "array([[ 6.1987897 ,  1.33045344, 10.02488314,  0.63807499,  9.51454014],\n",
       "       [ 0.54236688,  5.04024963, -2.22278276,  6.79360122,  5.13433849],\n",
       "       [ 5.9358737 ,  0.53574948,  2.29692942, -6.29910757,  7.27370531],\n",
       "       [ 5.61631346,  7.88320981, -2.73433733, -3.25605981,  4.49667552]])"
      ]
     },
     "execution_count": 39,
     "metadata": {},
     "output_type": "execute_result"
    }
   ],
   "source": [
    "import numpy as np\n",
    "\n",
    "def create_normal_array(a, s, m, n):\n",
    "    return np.random.normal(a, s, (m, n))\n",
    "create_normal_array(2, 4, 4, 5)"
   ]
  },
  {
   "cell_type": "code",
   "execution_count": 43,
   "id": "7652ff1e",
   "metadata": {},
   "outputs": [
    {
     "data": {
      "text/plain": [
       "array([23, 49, 16, 43,  6, 29, 26, 15, 41, 33, 34, 48,  0, 11, 47, 28, 42,\n",
       "       12, 38,  8])"
      ]
     },
     "execution_count": 43,
     "metadata": {},
     "output_type": "execute_result"
    }
   ],
   "source": [
    "import numpy as np\n",
    "\n",
    "def sample_no_replace(N, k):\n",
    "    return np.random.choice(N, k, replace = False)\n",
    "sample_no_replace(50, 20)"
   ]
  }
 ],
 "metadata": {
  "kernelspec": {
   "display_name": "Python 3 (ipykernel)",
   "language": "python",
   "name": "python3"
  },
  "language_info": {
   "codemirror_mode": {
    "name": "ipython",
    "version": 3
   },
   "file_extension": ".py",
   "mimetype": "text/x-python",
   "name": "python",
   "nbconvert_exporter": "python",
   "pygments_lexer": "ipython3",
   "version": "3.9.16"
  }
 },
 "nbformat": 4,
 "nbformat_minor": 5
}
