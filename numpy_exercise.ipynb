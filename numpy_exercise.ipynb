{
 "cells": [
  {
   "cell_type": "code",
   "execution_count": 1,
   "id": "8a69b44f-4c65-4864-b706-3563e09614dc",
   "metadata": {},
   "outputs": [
    {
     "data": {
      "text/plain": [
       "array([   1,    2,    4,    8,   16,   32,   64,  128,  256,  512, 1024],\n",
       "      dtype=int32)"
      ]
     },
     "execution_count": 1,
     "metadata": {},
     "output_type": "execute_result"
    }
   ],
   "source": [
    "#Xây dựng mảng các luỹ thừa của 2 nhỏ hơn 1025\n",
    "import numpy as np\n",
    "\n",
    "a = np.arange(0, 11)\n",
    "b = 2\n",
    "c = b**a\n",
    "c"
   ]
  },
  {
   "cell_type": "code",
   "execution_count": 2,
   "id": "0c685802-3854-4fdd-92f9-e3e8364a2785",
   "metadata": {},
   "outputs": [
    {
     "data": {
      "text/plain": [
       "array([3. , 3. , 3. , 3. , 3. , 3. , 3. , 3. , 3. , 1.5])"
      ]
     },
     "execution_count": 2,
     "metadata": {},
     "output_type": "execute_result"
    }
   ],
   "source": [
    "# Xây dựng mảng gồm 10 phần tử, trong đó 9 phần tử đầu bằng 3, phần tử cuối cùng bằng 1.5.\n",
    "import numpy as np\n",
    "a = np.ones(9)*3\n",
    "a = np.append(a, 1.5)\n",
    "a"
   ]
  },
  {
   "cell_type": "code",
   "execution_count": 3,
   "id": "e379c38b-ff83-4126-8814-0058577a68da",
   "metadata": {},
   "outputs": [
    {
     "data": {
      "text/plain": [
       "array([5, 5, 5, 5, 5, 5, 5, 5, 5, 5, 5])"
      ]
     },
     "execution_count": 3,
     "metadata": {},
     "output_type": "execute_result"
    }
   ],
   "source": [
    "#Thay toàn bộ các phần tử của mảng bằng trung bình cộng các phần tử trong mảng đó, sử dụng vòng for. Hàm này không trả về biến nào mà chỉ thay đổi các giá trị của biến đầu vào x.\n",
    "import numpy as np\n",
    "def fix(arr):\n",
    "    m = np.mean(arr)\n",
    "    for i in range(len(arr)):\n",
    "        arr[i] = m\n",
    "\n",
    "a = np.arange(0, 11)\n",
    "fix(a)\n",
    "a"
   ]
  },
  {
   "cell_type": "code",
   "execution_count": 4,
   "id": "0ff91bf1-88ee-4b69-8572-bd946fc49b01",
   "metadata": {},
   "outputs": [
    {
     "data": {
      "text/plain": [
       "array([ 2. , -1. ,  1.5, -1. ])"
      ]
     },
     "execution_count": 4,
     "metadata": {},
     "output_type": "execute_result"
    }
   ],
   "source": [
    "#Cho trước một số tự nhiên n. Tạo một mảng có n phần tử mà các phần tử có chỉ số chẵn (bắt đầu từ 0) là một cấp số cộng bắt đầu từ 2, công sai bằng -0.5; các phần tử có chỉ số lẻ bằng -1.\n",
    "import numpy as np\n",
    "def special_arr(n):\n",
    "    arr = np.ones(n)*-1\n",
    "    for i in range(0, n, 2):\n",
    "        arr[i] = 2 + i*-0.5/2\n",
    "    return arr\n",
    "special_arr(4)\n"
   ]
  },
  {
   "cell_type": "code",
   "execution_count": 5,
   "id": "e03407c1-46ee-4a69-adcb-ff29425ad532",
   "metadata": {},
   "outputs": [
    {
     "data": {
      "text/plain": [
       "array([ 1.57079633,  0.57079633, -0.42920367, -1.42920367, -2.42920367,\n",
       "       -3.42920367, -4.42920367, -5.42920367, -6.42920367, -7.42920367])"
      ]
     },
     "execution_count": 5,
     "metadata": {},
     "output_type": "execute_result"
    }
   ],
   "source": [
    "#Cho một mảng 1 chiều x, tính mảng y và z sao cho y[i] = pi/2 - x[i] và z[i] = cos(x[i]) - sin(x[i]). Sau đó trả về tổng các phần tử của z\n",
    "x = np.arange(0, 10)\n",
    "y = np.pi/2 - x\n",
    "z = np.cos(x) - np.sin(x)\n",
    "y\n",
    "\n"
   ]
  },
  {
   "cell_type": "code",
   "execution_count": 6,
   "id": "70e3505b-f5b8-4784-9dc3-b6466a10dc87",
   "metadata": {},
   "outputs": [
    {
     "data": {
      "text/plain": [
       "array([7.80134161e-05, 2.12062451e-04, 5.76445508e-04, 1.56694135e-03,\n",
       "       4.25938820e-03, 1.15782175e-02, 3.14728583e-02, 8.55520989e-02,\n",
       "       2.32554716e-01, 6.32149258e-01])"
      ]
     },
     "execution_count": 6,
     "metadata": {},
     "output_type": "execute_result"
    }
   ],
   "source": [
    "x = np.arange(0, 10)\n",
    "y = np.exp(x)\n",
    "sum = np.sum(y)\n",
    "soft_max = y / sum\n",
    "soft_max"
   ]
  },
  {
   "cell_type": "code",
   "execution_count": 7,
   "id": "6470331d-662f-4acb-a846-dd5399de6e50",
   "metadata": {},
   "outputs": [
    {
     "data": {
      "text/plain": [
       "array([[0, 0, 0, 0, 0, 0, 0],\n",
       "       [1, 0, 0, 0, 0, 0, 0],\n",
       "       [0, 2, 0, 0, 0, 0, 0],\n",
       "       [0, 0, 3, 0, 0, 0, 0],\n",
       "       [0, 0, 0, 4, 0, 0, 0],\n",
       "       [0, 0, 0, 0, 5, 0, 0],\n",
       "       [0, 0, 0, 0, 0, 6, 0]])"
      ]
     },
     "execution_count": 7,
     "metadata": {},
     "output_type": "execute_result"
    }
   ],
   "source": [
    "#Với một số tự nhiên n, hãy viết hàm trả về ma trận có dạng đường chéo phụ ngay dưới đường chéo chính nhận các giá trị từ 1 đến n. Các thành phần là kiểu số nguyên.\n",
    "import numpy as np\n",
    "def arr(n):\n",
    "    return np.diag(np.arange(1,n+1), k=-1)\n",
    "arr(6)"
   ]
  },
  {
   "cell_type": "code",
   "execution_count": 8,
   "id": "8beb4e39-58b3-4b24-ae8b-6a73b2fe526d",
   "metadata": {},
   "outputs": [
    {
     "data": {
      "text/plain": [
       "8"
      ]
     },
     "execution_count": 8,
     "metadata": {},
     "output_type": "execute_result"
    }
   ],
   "source": [
    "#Cho một ma trận A, viết hàm myfunc tính tổng các phần tử trên các cột có chỉ số chẵn (0, 2, 4, ...) của ma trận đó. Ví dụ:\n",
    "import numpy as np\n",
    "def myfunc(a):\n",
    "    return np.sum(a[:,::2])\n",
    "A = np.array([[5, 6], [3, 4]])\n",
    "myfunc(A)"
   ]
  },
  {
   "cell_type": "code",
   "execution_count": 9,
   "id": "5e3b45a5-604a-453c-92fb-1f7382142425",
   "metadata": {},
   "outputs": [
    {
     "data": {
      "text/plain": [
       "9"
      ]
     },
     "execution_count": 9,
     "metadata": {},
     "output_type": "execute_result"
    }
   ],
   "source": [
    "# Viết hàm myfunc tính tổng tất cả các phần tử có cả hai chỉ số đều chẵn của một ma trận A bất kỳ.\n",
    "import numpy as np\n",
    "def myfunc(A):\n",
    "   return np.sum(A[::2,::2])\n",
    "A = np.array([[5, 6, 4], [3, 4, 9]])\n",
    "myfunc(A)#5+4"
   ]
  },
  {
   "cell_type": "code",
   "execution_count": 10,
   "id": "e78eced2",
   "metadata": {},
   "outputs": [
    {
     "data": {
      "text/plain": [
       "13.527749258468683"
      ]
     },
     "execution_count": 10,
     "metadata": {},
     "output_type": "execute_result"
    }
   ],
   "source": [
    "#Viết hàm norm_fro(A) tính Frobenius norm của một ma trận bất kỳ.\n",
    "def norm_fro(A):\n",
    "    B = A**2\n",
    "    return (np.sqrt(np.sum(B)))\n",
    "A = np.array([[5, 6, 4], [3, 4, 9]])\n",
    "norm_fro(A)"
   ]
  },
  {
   "cell_type": "code",
   "execution_count": 11,
   "id": "9e7ce56e",
   "metadata": {},
   "outputs": [
    {
     "data": {
      "text/plain": [
       "7.0710678118654755"
      ]
     },
     "execution_count": 11,
     "metadata": {},
     "output_type": "execute_result"
    }
   ],
   "source": [
    "#Viết hàm dist_fro tính bình phương Frobenious norm của hiệu hai ma trận được mô tả bởi hai mảng đó.\n",
    "import numpy as np\n",
    "\n",
    "A = np.array([[1, 3], [2, 5]])\n",
    "def norm_fro(A):\n",
    "    B = A**2\n",
    "    return (np.sqrt(np.sum(B)))\n",
    "def dis_fro(A, B):\n",
    "    C = A - B\n",
    "    return norm_fro(C)\n",
    "A = np.array([[1, 5], [2, 3]])\n",
    "B = np.array([[5, 8], [7, 3]])\n",
    "dis_fro(A, B)"
   ]
  },
  {
   "cell_type": "code",
   "execution_count": 12,
   "id": "9e6266d1",
   "metadata": {},
   "outputs": [
    {
     "data": {
      "text/plain": [
       "array([[ 1,  5,  9,  2],\n",
       "       [ 6, 10,  3,  7],\n",
       "       [11,  4,  8, 12]])"
      ]
     },
     "execution_count": 12,
     "metadata": {},
     "output_type": "execute_result"
    }
   ],
   "source": [
    "import numpy as np\n",
    "a = np.transpose(np.arange(1,13).reshape(3, 4).reshape(4,-1,order='F'))\n",
    "a"
   ]
  },
  {
   "cell_type": "code",
   "execution_count": 13,
   "id": "66477d0e",
   "metadata": {},
   "outputs": [
    {
     "data": {
      "text/plain": [
       "650"
      ]
     },
     "execution_count": 13,
     "metadata": {},
     "output_type": "execute_result"
    }
   ],
   "source": [
    "import numpy as np\n",
    "def fro_trace(A):\n",
    "    B = np.transpose(A)\n",
    "    return np.trace(A@B)\n",
    "A = np.array([[ 1,  5,  9,  2],\n",
    "       [ 6, 10,  3,  7],\n",
    "       [11,  4,  8, 12]])\n",
    "fro_trace(A)"
   ]
  },
  {
   "cell_type": "code",
   "execution_count": 14,
   "id": "75ff16f0",
   "metadata": {},
   "outputs": [
    {
     "data": {
      "text/plain": [
       "array([[2.01077438, 2.95959397, 2.16978207, 2.87361778, 2.85834991,\n",
       "        2.51754057],\n",
       "       [2.84300996, 2.55935366, 2.24246566, 2.90913529, 2.71168059,\n",
       "        2.41342212],\n",
       "       [2.40407848, 2.53828295, 2.85094331, 2.88844782, 2.87210736,\n",
       "        2.82334776],\n",
       "       [2.02660925, 2.11575423, 2.10253451, 2.00286843, 2.42386244,\n",
       "        2.23830624],\n",
       "       [2.88905053, 2.34598351, 2.13249763, 2.71985374, 2.1807158 ,\n",
       "        2.87972451]])"
      ]
     },
     "execution_count": 14,
     "metadata": {},
     "output_type": "execute_result"
    }
   ],
   "source": [
    "import numpy as np\n",
    "def create_array(a, b, m, n):\n",
    "    return np.random.uniform(a, b, (m, n))\n",
    "create_array(2, 3, 5, 6)\n"
   ]
  },
  {
   "cell_type": "code",
   "execution_count": 15,
   "id": "17855753",
   "metadata": {},
   "outputs": [
    {
     "data": {
      "text/plain": [
       "array([[-5.69921892,  3.07536317,  0.67648206, -3.03552891,  4.60781619],\n",
       "       [ 3.31616353, -4.2362364 ,  0.67245308,  2.08393773,  2.73711829],\n",
       "       [-2.33695856, -2.06877799, -0.74861526, -2.34650094,  4.17446849],\n",
       "       [ 3.05722066, -2.7169952 , -2.53147862,  2.95754368, -1.48572625]])"
      ]
     },
     "execution_count": 15,
     "metadata": {},
     "output_type": "execute_result"
    }
   ],
   "source": [
    "import numpy as np\n",
    "\n",
    "def create_normal_array(a, s, m, n):\n",
    "    return np.random.normal(a, s, (m, n))\n",
    "create_normal_array(2, 4, 4, 5)"
   ]
  },
  {
   "cell_type": "code",
   "execution_count": 16,
   "id": "7652ff1e",
   "metadata": {},
   "outputs": [
    {
     "data": {
      "text/plain": [
       "array([24, 17, 19,  8, 13, 18, 40, 15, 10, 48, 12, 22, 16, 41, 39, 14, 23,\n",
       "       44, 26, 37])"
      ]
     },
     "execution_count": 16,
     "metadata": {},
     "output_type": "execute_result"
    }
   ],
   "source": [
    "import numpy as np\n",
    "\n",
    "def sample_no_replace(N, k):\n",
    "    return np.random.choice(N, k, replace = False)\n",
    "sample_no_replace(50, 20)"
   ]
  }
 ],
 "metadata": {
  "kernelspec": {
   "display_name": "Python 3 (ipykernel)",
   "language": "python",
   "name": "python3"
  },
  "language_info": {
   "codemirror_mode": {
    "name": "ipython",
    "version": 3
   },
   "file_extension": ".py",
   "mimetype": "text/x-python",
   "name": "python",
   "nbconvert_exporter": "python",
   "pygments_lexer": "ipython3",
   "version": "3.9.13"
  }
 },
 "nbformat": 4,
 "nbformat_minor": 5
}
